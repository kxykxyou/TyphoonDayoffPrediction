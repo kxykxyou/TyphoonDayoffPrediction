{
 "cells": [
  {
   "cell_type": "code",
   "execution_count": 17,
   "id": "7f15935b",
   "metadata": {},
   "outputs": [],
   "source": [
    "#先導入資料處理會用到的模組\n",
    "import numpy as np\n",
    "import scipy as sp\n",
    "import pandas as pd\n",
    "import pickle\n",
    "from pandas_profiling import ProfileReport\n",
    "\n",
    "# 可視化模組\n",
    "import matplotlib.pyplot as plt\n",
    "import matplotlib as mpl\n",
    "import seaborn as sns\n",
    "%matplotlib inline\n",
    "\n",
    "# 機器學習模組\n",
    "from sklearn.impute import KNNImputer\n",
    "from sklearn.preprocessing import MinMaxScaler\n",
    "from sklearn.ensemble import RandomForestClassifier\n",
    "import joblib\n",
    "pd.set_option('display.max_columns', None)"
   ]
  },
  {
   "cell_type": "code",
   "execution_count": 4,
   "id": "5d614aad",
   "metadata": {},
   "outputs": [],
   "source": [
    "'''\n",
    "pkl檔案儲存的是字典，裡面分別是*特徵工程*篩選過feature的dataset，每個字典都有3個不同程度featrue importance的特徵集合，都有label\n",
    "\n",
    "'greater_than_002'：RF model 挑選 feature importance大於0.02的特徵集合\n",
    "'greater_than_003'：大於0.03的\n",
    "'greater_than_004'：大於0.04的\n",
    "\n",
    "*特徵工程流程*\n",
    "Z score standarization --> kNN補值 --> RF modle判定特徵重要性\n",
    "'''\n",
    "\n",
    "X_train =   # 用來train model的training sets\n",
    "X_test =   # 沒有drop掉太多NA的row\n",
    "X_test_drop =   # 有drop掉太多NA的row\n",
    "\n",
    "\n",
    "X_train['greater_than_002'] = pd.read_csv('/Users/shyanechang/Desktop/AI_Class/專題/data/feature_sets/X_train_S_feature002.csv')\n",
    "X_train['greater_than_003'] = pd.read_csv('/Users/shyanechang/Desktop/AI_Class/專題/data/feature_sets/X_train_S_feature003.csv')\n",
    "X_train['greater_than_004'] = pd.read_csv('/Users/shyanechang/Desktop/AI_Class/專題/data/feature_sets/X_train_S_feature004.csv')\n",
    "\n",
    "X_test['greater_than_002'] = pd.read_csv('/Users/shyanechang/Desktop/AI_Class/專題/data/feature_sets/X_test_S_feature002.csv')\n",
    "X_test['greater_than_003'] = pd.read_csv('/Users/shyanechang/Desktop/AI_Class/專題/data/feature_sets/X_test_S_feature003.csv')\n",
    "X_test['greater_than_004'] = pd.read_csv('/Users/shyanechang/Desktop/AI_Class/專題/data/feature_sets/X_test_S_feature004.csv')\n",
    "\n",
    "X_test_drop['greater_than_002'] = pd.read_csv('/Users/shyanechang/Desktop/AI_Class/專題/data/feature_sets/X_test_drop_S_feature002.csv')\n",
    "X_test_drop['greater_than_003'] = pd.read_csv('/Users/shyanechang/Desktop/AI_Class/專題/data/feature_sets/X_test_drop_S_feature003.csv')\n",
    "X_test_drop['greater_than_004'] = pd.read_csv('/Users/shyanechang/Desktop/AI_Class/專題/data/feature_sets/X_test_drop_S_feature004.csv')\n",
    "\n"
   ]
  },
  {
   "cell_type": "code",
   "execution_count": 5,
   "id": "34e09495",
   "metadata": {},
   "outputs": [
    {
     "ename": "AttributeError",
     "evalue": "'dict' object has no attribute '__name__'",
     "output_type": "error",
     "traceback": [
      "\u001b[0;31m---------------------------------------------------------------------------\u001b[0m",
      "\u001b[0;31mAttributeError\u001b[0m                            Traceback (most recent call last)",
      "\u001b[0;32m/var/folders/zm/2qh6kqr91716mvmmp8z213w40000gn/T/ipykernel_17349/2088814562.py\u001b[0m in \u001b[0;36m<module>\u001b[0;34m\u001b[0m\n\u001b[0;32m----> 1\u001b[0;31m \u001b[0mX_test_drop\u001b[0m\u001b[0;34m.\u001b[0m\u001b[0m__name__\u001b[0m\u001b[0;34m\u001b[0m\u001b[0;34m\u001b[0m\u001b[0m\n\u001b[0m",
      "\u001b[0;31mAttributeError\u001b[0m: 'dict' object has no attribute '__name__'"
     ]
    }
   ],
   "source": [
    "X_test_drop"
   ]
  },
  {
   "cell_type": "code",
   "execution_count": null,
   "id": "7bfebb6b",
   "metadata": {},
   "outputs": [],
   "source": [
    "'''\n",
    "model retraining class\n",
    "'''\n",
    "class trainModel():\n",
    "    def __init__(self, X_train, y_train):\n",
    "        self.X_train = X_train\n",
    "        self.y_train = y_train\n",
    "    def rf(self, forest_num = 30):\n",
    "        rf = RandomForestClassifier(n_estimators=500)  # 指定隨機森林模型內要有500棵樹\n",
    "        score = 0\n",
    "        for i in range(forest_num):  # 跑30次這個模型fitting\n",
    "            X_train, X_test, y_train, y_test = train_test_split(self.X_train, self.y_train, test_size=0.2)  # 每次隨機取出20%資料拿來當作model得分測試\n",
    "            model = rf.fit(X_train, y_train)\n",
    "            model_score = model.score(X_test, y_test)\n",
    "            if model_score > score:  # 取model fitting得分最高的\n",
    "                score = model_score\n",
    "                model_best = model\n",
    "                print(model score update: ', model_score)\n",
    "        return model_best\n",
    "    def svm():\n",
    "        pass\n",
    "    def xgb():\n",
    "        pass"
   ]
  },
  {
   "cell_type": "code",
   "execution_count": null,
   "id": "a3768e30",
   "metadata": {},
   "outputs": [],
   "source": []
  },
  {
   "cell_type": "code",
   "execution_count": null,
   "id": "023a5d96",
   "metadata": {},
   "outputs": [],
   "source": []
  },
  {
   "cell_type": "code",
   "execution_count": 10,
   "id": "6a7831ab",
   "metadata": {},
   "outputs": [
    {
     "data": {
      "text/plain": [
       "'https://opendata.cwb.gov.tw/api/v1/rest/datastore/O-A0003-001?Authorization&format=JSON&locationName=基隆'"
      ]
     },
     "execution_count": 10,
     "metadata": {},
     "output_type": "execute_result"
    }
   ],
   "source": [
    "locationName = '基隆'\n",
    "url = 'https://opendata.cwb.gov.tw/api/v1/rest/datastore/O-A0003-001?'+'Authorization'+'&format=JSON&locationName='+ str(locationName)\n",
    "url"
   ]
  },
  {
   "cell_type": "code",
   "execution_count": null,
   "id": "cdd89817",
   "metadata": {},
   "outputs": [],
   "source": []
  }
 ],
 "metadata": {
  "kernelspec": {
   "display_name": "Python 3 (ipykernel)",
   "language": "python",
   "name": "python3"
  },
  "language_info": {
   "codemirror_mode": {
    "name": "ipython",
    "version": 3
   },
   "file_extension": ".py",
   "mimetype": "text/x-python",
   "name": "python",
   "nbconvert_exporter": "python",
   "pygments_lexer": "ipython3",
   "version": "3.9.7"
  }
 },
 "nbformat": 4,
 "nbformat_minor": 5
}
