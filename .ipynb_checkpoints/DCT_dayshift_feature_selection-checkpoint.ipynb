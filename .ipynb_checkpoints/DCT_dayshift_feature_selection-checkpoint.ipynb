{
 "cells": [
  {
   "cell_type": "code",
   "execution_count": 153,
   "id": "bc0b8bac",
   "metadata": {},
   "outputs": [],
   "source": [
    "#先導入資料處理會用到的模組\n",
    "import numpy as np\n",
    "import scipy as sp\n",
    "import pandas as pd\n",
    "from pandas_profiling import ProfileReport\n",
    "\n",
    "# 可視化模組\n",
    "import matplotlib.pyplot as plt\n",
    "import matplotlib as mpl\n",
    "import seaborn as sns\n",
    "%matplotlib inline\n",
    "\n",
    "# 機器學習模組\n",
    "import sklearn\n",
    "from sklearn.impute import KNNImputer\n",
    "from sklearn.preprocessing import MinMaxScaler\n",
    "from sklearn.ensemble import RandomForestClassifier\n",
    "from sklearn.model_selection import train_test_split\n",
    "import joblib\n",
    "pd.set_option('display.max_columns', None)"
   ]
  },
  {
   "cell_type": "code",
   "execution_count": 161,
   "id": "41160df4",
   "metadata": {},
   "outputs": [],
   "source": [
    "dataset = pd.read_csv('/Users/shyanechang/Desktop/AI_Class/專題/data/station_observation/data_ver_4_DCT.csv', index_col = 0)\n",
    "dataset = dataset.dropna(subset = ['TmrDayoff']) # drop掉明天是NA的\n",
    "dataset.shape\n",
    "\n",
    "X = dataset.drop('TmrDayoff', axis = 1)  # drop掉y\n",
    "X = dataset.drop(dataset.columns[:7], axis = 1)  # drop掉日期、區域資訊、颱風編號與名稱\n",
    "y = dataset['TmrDayoff']  # 訓練的目標：明天是否放假\n",
    "\n",
    "from sklearn.model_selection import train_test_split\n",
    "X_train, X_test, y_train, y_test = train_test_split(X, y, test_size=0.1, random_state=0)"
   ]
  },
  {
   "cell_type": "code",
   "execution_count": 163,
   "id": "398b5785",
   "metadata": {},
   "outputs": [
    {
     "data": {
      "text/plain": [
       "1        0.0\n",
       "2        0.0\n",
       "3        0.0\n",
       "4        0.0\n",
       "5        0.0\n",
       "        ... \n",
       "51109    1.0\n",
       "51110    1.0\n",
       "51111    1.0\n",
       "51112    1.0\n",
       "51113    1.0\n",
       "Name: TmrDayoff, Length: 25909, dtype: float64"
      ]
     },
     "execution_count": 163,
     "metadata": {},
     "output_type": "execute_result"
    }
   ],
   "source": [
    "dataset['TmrDayoff']"
   ]
  },
  {
   "cell_type": "code",
   "execution_count": 156,
   "id": "883cd6f7",
   "metadata": {},
   "outputs": [
    {
     "name": "stdout",
     "output_type": "stream",
     "text": [
      "資料樣本數:  23318\n",
      "資料欄位數:  36\n",
      "資料樣本數:  23318\n",
      "資料欄位數:  24\n",
      "資料樣本數:  23318\n",
      "資料欄位數:  24\n",
      "資料樣本數:  11004\n",
      "資料欄位數:  24\n"
     ]
    }
   ],
   "source": [
    "# def drop_NA_row(X):\n",
    "# drop欄中NA數量超過0.7的columns\n",
    "print('資料樣本數: ', X_train.shape[0])\n",
    "print('資料欄位數: ', X_train.shape[1])\n",
    "X_train = X_train[X_train.columns[X_train.isna().sum()/X_train.shape[0] < 0.7]]\n",
    "print('資料樣本數: ', X_train.shape[0])\n",
    "print('資料欄位數: ', X_train.shape[1])\n",
    "\n",
    "# len(X_train.columns) = 35  # 36個column中，有10個是一定會有的資訊；每筆資料剩下的26個天氣欄位，至少要保留26 * (1/4) = 10個欄位不為NA\n",
    "print('資料樣本數: ', X_train.shape[0])\n",
    "print('資料欄位數: ', X_train.shape[1])\n",
    "X_train = X_train.dropna(thresh = 20)\n",
    "print('資料樣本數: ', X_train.shape[0])\n",
    "print('資料欄位數: ', X_train.shape[1])"
   ]
  },
  {
   "cell_type": "code",
   "execution_count": 115,
   "id": "56d4e912",
   "metadata": {
    "scrolled": true
   },
   "outputs": [],
   "source": [
    "X_train = pd.get_dummies(X_train)"
   ]
  },
  {
   "cell_type": "code",
   "execution_count": 124,
   "id": "eec9b80b",
   "metadata": {},
   "outputs": [
    {
     "data": {
      "text/html": [
       "<div>\n",
       "<style scoped>\n",
       "    .dataframe tbody tr th:only-of-type {\n",
       "        vertical-align: middle;\n",
       "    }\n",
       "\n",
       "    .dataframe tbody tr th {\n",
       "        vertical-align: top;\n",
       "    }\n",
       "\n",
       "    .dataframe thead th {\n",
       "        text-align: right;\n",
       "    }\n",
       "</style>\n",
       "<table border=\"1\" class=\"dataframe\">\n",
       "  <thead>\n",
       "    <tr style=\"text-align: right;\">\n",
       "      <th></th>\n",
       "      <th>hpa</th>\n",
       "      <th>TyWS</th>\n",
       "      <th>X7_radius</th>\n",
       "      <th>X10_radius</th>\n",
       "      <th>alert_num</th>\n",
       "      <th>born_spotE</th>\n",
       "      <th>born_spotN</th>\n",
       "      <th>Dayoff</th>\n",
       "      <th>TmrDayoff</th>\n",
       "      <th>StnPres</th>\n",
       "      <th>StnPresMax</th>\n",
       "      <th>StnPresMin</th>\n",
       "      <th>Temperature</th>\n",
       "      <th>T.Max</th>\n",
       "      <th>T.Min</th>\n",
       "      <th>RH</th>\n",
       "      <th>RHMin</th>\n",
       "      <th>Precp</th>\n",
       "      <th>WD_vector_x</th>\n",
       "      <th>WD_vector_y</th>\n",
       "      <th>WDGust_vector_x</th>\n",
       "      <th>WDGust_vector_y</th>\n",
       "      <th>route_--</th>\n",
       "      <th>route_1</th>\n",
       "      <th>route_2</th>\n",
       "      <th>route_3</th>\n",
       "      <th>route_4</th>\n",
       "      <th>route_5</th>\n",
       "      <th>route_6</th>\n",
       "      <th>route_7</th>\n",
       "      <th>route_9</th>\n",
       "      <th>route_特殊</th>\n",
       "      <th>intensity_intense</th>\n",
       "      <th>intensity_moderate</th>\n",
       "      <th>intensity_tropical</th>\n",
       "    </tr>\n",
       "  </thead>\n",
       "  <tbody>\n",
       "    <tr>\n",
       "      <th>31409</th>\n",
       "      <td>910</td>\n",
       "      <td>55</td>\n",
       "      <td>280</td>\n",
       "      <td>120</td>\n",
       "      <td>22</td>\n",
       "      <td>131.5</td>\n",
       "      <td>13.5</td>\n",
       "      <td>1</td>\n",
       "      <td>1.0</td>\n",
       "      <td>794.85</td>\n",
       "      <td>882.35</td>\n",
       "      <td>378.85</td>\n",
       "      <td>16.1</td>\n",
       "      <td>17.05</td>\n",
       "      <td>15.1</td>\n",
       "      <td>NaN</td>\n",
       "      <td>NaN</td>\n",
       "      <td>344.833333</td>\n",
       "      <td>1.450725</td>\n",
       "      <td>-1.78062</td>\n",
       "      <td>6.370494</td>\n",
       "      <td>-11.512907</td>\n",
       "      <td>0</td>\n",
       "      <td>0</td>\n",
       "      <td>0</td>\n",
       "      <td>0</td>\n",
       "      <td>0</td>\n",
       "      <td>1</td>\n",
       "      <td>0</td>\n",
       "      <td>0</td>\n",
       "      <td>0</td>\n",
       "      <td>0</td>\n",
       "      <td>1</td>\n",
       "      <td>0</td>\n",
       "      <td>0</td>\n",
       "    </tr>\n",
       "  </tbody>\n",
       "</table>\n",
       "</div>"
      ],
      "text/plain": [
       "       hpa  TyWS  X7_radius  X10_radius  alert_num  born_spotE  born_spotN  \\\n",
       "31409  910    55        280         120         22       131.5        13.5   \n",
       "\n",
       "       Dayoff  TmrDayoff  StnPres  StnPresMax  StnPresMin  Temperature  T.Max  \\\n",
       "31409       1        1.0   794.85      882.35      378.85         16.1  17.05   \n",
       "\n",
       "       T.Min  RH  RHMin       Precp  WD_vector_x  WD_vector_y  \\\n",
       "31409   15.1 NaN    NaN  344.833333     1.450725     -1.78062   \n",
       "\n",
       "       WDGust_vector_x  WDGust_vector_y  route_--  route_1  route_2  route_3  \\\n",
       "31409         6.370494       -11.512907         0        0        0        0   \n",
       "\n",
       "       route_4  route_5  route_6  route_7  route_9  route_特殊  \\\n",
       "31409        0        1        0        0        0         0   \n",
       "\n",
       "       intensity_intense  intensity_moderate  intensity_tropical  \n",
       "31409                  1                   0                   0  "
      ]
     },
     "execution_count": 124,
     "metadata": {},
     "output_type": "execute_result"
    }
   ],
   "source": [
    "# drop_idx = []\n",
    "# 補值idx\n",
    "idx = [[30981, 'StnPresMax'], []]\n",
    "# X_train[X_train['StnPresMax']==X_train['StnPresMax'].max()]\n",
    "X_train[X_train['StnPresMin']==X_train['StnPresMin'].min()]"
   ]
  },
  {
   "cell_type": "code",
   "execution_count": 118,
   "id": "036ceda9",
   "metadata": {
    "scrolled": false
   },
   "outputs": [
    {
     "data": {
      "text/plain": [
       "<AxesSubplot:>"
      ]
     },
     "execution_count": 118,
     "metadata": {},
     "output_type": "execute_result"
    },
    {
     "data": {
      "image/png": "[encoded data removed]",
      "text/plain": [
       "<Figure size 720x432 with 1 Axes>"
      ]
     },
     "metadata": {
      "needs_background": "light"
     },
     "output_type": "display_data"
    }
   ],
   "source": [
    "X_train[X_train.columns[10:15]].plot.box(figsize = (10,6))\n",
    "\n"
   ]
  },
  {
   "cell_type": "code",
   "execution_count": 117,
   "id": "c24a15d7",
   "metadata": {},
   "outputs": [
    {
     "data": {
      "text/html": [
       "<div>\n",
       "<style scoped>\n",
       "    .dataframe tbody tr th:only-of-type {\n",
       "        vertical-align: middle;\n",
       "    }\n",
       "\n",
       "    .dataframe tbody tr th {\n",
       "        vertical-align: top;\n",
       "    }\n",
       "\n",
       "    .dataframe thead th {\n",
       "        text-align: right;\n",
       "    }\n",
       "</style>\n",
       "<table border=\"1\" class=\"dataframe\">\n",
       "  <thead>\n",
       "    <tr style=\"text-align: right;\">\n",
       "      <th></th>\n",
       "      <th>born_spotN</th>\n",
       "      <th>born_spotE</th>\n",
       "    </tr>\n",
       "  </thead>\n",
       "  <tbody>\n",
       "    <tr>\n",
       "      <th>47102</th>\n",
       "      <td>19.4</td>\n",
       "      <td>118.3</td>\n",
       "    </tr>\n",
       "    <tr>\n",
       "      <th>46346</th>\n",
       "      <td>15.5</td>\n",
       "      <td>132.2</td>\n",
       "    </tr>\n",
       "    <tr>\n",
       "      <th>47291</th>\n",
       "      <td>19.4</td>\n",
       "      <td>118.3</td>\n",
       "    </tr>\n",
       "    <tr>\n",
       "      <th>33089</th>\n",
       "      <td>12.9</td>\n",
       "      <td>129.5</td>\n",
       "    </tr>\n",
       "    <tr>\n",
       "      <th>31063</th>\n",
       "      <td>13.5</td>\n",
       "      <td>131.5</td>\n",
       "    </tr>\n",
       "    <tr>\n",
       "      <th>...</th>\n",
       "      <td>...</td>\n",
       "      <td>...</td>\n",
       "    </tr>\n",
       "    <tr>\n",
       "      <th>40096</th>\n",
       "      <td>15.5</td>\n",
       "      <td>140.0</td>\n",
       "    </tr>\n",
       "    <tr>\n",
       "      <th>48445</th>\n",
       "      <td>22.3</td>\n",
       "      <td>132.9</td>\n",
       "    </tr>\n",
       "    <tr>\n",
       "      <th>40582</th>\n",
       "      <td>15.5</td>\n",
       "      <td>140.0</td>\n",
       "    </tr>\n",
       "    <tr>\n",
       "      <th>25555</th>\n",
       "      <td>18.6</td>\n",
       "      <td>111.8</td>\n",
       "    </tr>\n",
       "    <tr>\n",
       "      <th>37951</th>\n",
       "      <td>8.9</td>\n",
       "      <td>145.2</td>\n",
       "    </tr>\n",
       "  </tbody>\n",
       "</table>\n",
       "<p>11004 rows × 2 columns</p>\n",
       "</div>"
      ],
      "text/plain": [
       "       born_spotN  born_spotE\n",
       "47102        19.4       118.3\n",
       "46346        15.5       132.2\n",
       "47291        19.4       118.3\n",
       "33089        12.9       129.5\n",
       "31063        13.5       131.5\n",
       "...           ...         ...\n",
       "40096        15.5       140.0\n",
       "48445        22.3       132.9\n",
       "40582        15.5       140.0\n",
       "25555        18.6       111.8\n",
       "37951         8.9       145.2\n",
       "\n",
       "[11004 rows x 2 columns]"
      ]
     },
     "execution_count": 117,
     "metadata": {},
     "output_type": "execute_result"
    }
   ],
   "source": [
    "X_train[['born_spotN', 'born_spotE']]"
   ]
  },
  {
   "cell_type": "code",
   "execution_count": 108,
   "id": "6607f615",
   "metadata": {
    "scrolled": true
   },
   "outputs": [
    {
     "ename": "ValueError",
     "evalue": "could not convert string to float: '特殊'",
     "output_type": "error",
     "traceback": [
      "\u001b[0;31m---------------------------------------------------------------------------\u001b[0m",
      "\u001b[0;31mValueError\u001b[0m                                Traceback (most recent call last)",
      "\u001b[0;32m/var/folders/zm/2qh6kqr91716mvmmp8z213w40000gn/T/ipykernel_13095/2853993253.py\u001b[0m in \u001b[0;36m<module>\u001b[0;34m\u001b[0m\n\u001b[1;32m      1\u001b[0m \u001b[0mscaler\u001b[0m \u001b[0;34m=\u001b[0m \u001b[0mMinMaxScaler\u001b[0m\u001b[0;34m(\u001b[0m\u001b[0;34m)\u001b[0m\u001b[0;34m\u001b[0m\u001b[0;34m\u001b[0m\u001b[0m\n\u001b[0;32m----> 2\u001b[0;31m \u001b[0mscaler\u001b[0m\u001b[0;34m.\u001b[0m\u001b[0mfit\u001b[0m\u001b[0;34m(\u001b[0m\u001b[0mX\u001b[0m\u001b[0;34m)\u001b[0m\u001b[0;34m\u001b[0m\u001b[0;34m\u001b[0m\u001b[0m\n\u001b[0m\u001b[1;32m      3\u001b[0m \u001b[0mX_scaled\u001b[0m \u001b[0;34m=\u001b[0m \u001b[0mscaler\u001b[0m\u001b[0;34m.\u001b[0m\u001b[0mfit_transform\u001b[0m\u001b[0;34m(\u001b[0m\u001b[0mX\u001b[0m\u001b[0;34m)\u001b[0m\u001b[0;34m\u001b[0m\u001b[0;34m\u001b[0m\u001b[0m\n\u001b[1;32m      4\u001b[0m \u001b[0mX_scaled\u001b[0m\u001b[0;34m\u001b[0m\u001b[0;34m\u001b[0m\u001b[0m\n\u001b[1;32m      5\u001b[0m \u001b[0;31m# imputer = KNNImputer(n_neighbors=5)\u001b[0m\u001b[0;34m\u001b[0m\u001b[0;34m\u001b[0m\u001b[0m\n",
      "\u001b[0;32m~/opt/anaconda3/envs/py39/lib/python3.9/site-packages/sklearn/preprocessing/_data.py\u001b[0m in \u001b[0;36mfit\u001b[0;34m(self, X, y)\u001b[0m\n\u001b[1;32m    414\u001b[0m         \u001b[0;31m# Reset internal state before fitting\u001b[0m\u001b[0;34m\u001b[0m\u001b[0;34m\u001b[0m\u001b[0m\n\u001b[1;32m    415\u001b[0m         \u001b[0mself\u001b[0m\u001b[0;34m.\u001b[0m\u001b[0m_reset\u001b[0m\u001b[0;34m(\u001b[0m\u001b[0;34m)\u001b[0m\u001b[0;34m\u001b[0m\u001b[0;34m\u001b[0m\u001b[0m\n\u001b[0;32m--> 416\u001b[0;31m         \u001b[0;32mreturn\u001b[0m \u001b[0mself\u001b[0m\u001b[0;34m.\u001b[0m\u001b[0mpartial_fit\u001b[0m\u001b[0;34m(\u001b[0m\u001b[0mX\u001b[0m\u001b[0;34m,\u001b[0m \u001b[0my\u001b[0m\u001b[0;34m)\u001b[0m\u001b[0;34m\u001b[0m\u001b[0;34m\u001b[0m\u001b[0m\n\u001b[0m\u001b[1;32m    417\u001b[0m \u001b[0;34m\u001b[0m\u001b[0m\n\u001b[1;32m    418\u001b[0m     \u001b[0;32mdef\u001b[0m \u001b[0mpartial_fit\u001b[0m\u001b[0;34m(\u001b[0m\u001b[0mself\u001b[0m\u001b[0;34m,\u001b[0m \u001b[0mX\u001b[0m\u001b[0;34m,\u001b[0m \u001b[0my\u001b[0m\u001b[0;34m=\u001b[0m\u001b[0;32mNone\u001b[0m\u001b[0;34m)\u001b[0m\u001b[0;34m:\u001b[0m\u001b[0;34m\u001b[0m\u001b[0;34m\u001b[0m\u001b[0m\n",
      "\u001b[0;32m~/opt/anaconda3/envs/py39/lib/python3.9/site-packages/sklearn/preprocessing/_data.py\u001b[0m in \u001b[0;36mpartial_fit\u001b[0;34m(self, X, y)\u001b[0m\n\u001b[1;32m    451\u001b[0m \u001b[0;34m\u001b[0m\u001b[0m\n\u001b[1;32m    452\u001b[0m         \u001b[0mfirst_pass\u001b[0m \u001b[0;34m=\u001b[0m \u001b[0;32mnot\u001b[0m \u001b[0mhasattr\u001b[0m\u001b[0;34m(\u001b[0m\u001b[0mself\u001b[0m\u001b[0;34m,\u001b[0m \u001b[0;34m\"n_samples_seen_\"\u001b[0m\u001b[0;34m)\u001b[0m\u001b[0;34m\u001b[0m\u001b[0;34m\u001b[0m\u001b[0m\n\u001b[0;32m--> 453\u001b[0;31m         X = self._validate_data(\n\u001b[0m\u001b[1;32m    454\u001b[0m             \u001b[0mX\u001b[0m\u001b[0;34m,\u001b[0m\u001b[0;34m\u001b[0m\u001b[0;34m\u001b[0m\u001b[0m\n\u001b[1;32m    455\u001b[0m             \u001b[0mreset\u001b[0m\u001b[0;34m=\u001b[0m\u001b[0mfirst_pass\u001b[0m\u001b[0;34m,\u001b[0m\u001b[0;34m\u001b[0m\u001b[0;34m\u001b[0m\u001b[0m\n",
      "\u001b[0;32m~/opt/anaconda3/envs/py39/lib/python3.9/site-packages/sklearn/base.py\u001b[0m in \u001b[0;36m_validate_data\u001b[0;34m(self, X, y, reset, validate_separately, **check_params)\u001b[0m\n\u001b[1;32m    564\u001b[0m             \u001b[0;32mraise\u001b[0m \u001b[0mValueError\u001b[0m\u001b[0;34m(\u001b[0m\u001b[0;34m\"Validation should be done on X, y or both.\"\u001b[0m\u001b[0;34m)\u001b[0m\u001b[0;34m\u001b[0m\u001b[0;34m\u001b[0m\u001b[0m\n\u001b[1;32m    565\u001b[0m         \u001b[0;32melif\u001b[0m \u001b[0;32mnot\u001b[0m \u001b[0mno_val_X\u001b[0m \u001b[0;32mand\u001b[0m \u001b[0mno_val_y\u001b[0m\u001b[0;34m:\u001b[0m\u001b[0;34m\u001b[0m\u001b[0;34m\u001b[0m\u001b[0m\n\u001b[0;32m--> 566\u001b[0;31m             \u001b[0mX\u001b[0m \u001b[0;34m=\u001b[0m \u001b[0mcheck_array\u001b[0m\u001b[0;34m(\u001b[0m\u001b[0mX\u001b[0m\u001b[0;34m,\u001b[0m \u001b[0;34m**\u001b[0m\u001b[0mcheck_params\u001b[0m\u001b[0;34m)\u001b[0m\u001b[0;34m\u001b[0m\u001b[0;34m\u001b[0m\u001b[0m\n\u001b[0m\u001b[1;32m    567\u001b[0m             \u001b[0mout\u001b[0m \u001b[0;34m=\u001b[0m \u001b[0mX\u001b[0m\u001b[0;34m\u001b[0m\u001b[0;34m\u001b[0m\u001b[0m\n\u001b[1;32m    568\u001b[0m         \u001b[0;32melif\u001b[0m \u001b[0mno_val_X\u001b[0m \u001b[0;32mand\u001b[0m \u001b[0;32mnot\u001b[0m \u001b[0mno_val_y\u001b[0m\u001b[0;34m:\u001b[0m\u001b[0;34m\u001b[0m\u001b[0;34m\u001b[0m\u001b[0m\n",
      "\u001b[0;32m~/opt/anaconda3/envs/py39/lib/python3.9/site-packages/sklearn/utils/validation.py\u001b[0m in \u001b[0;36mcheck_array\u001b[0;34m(array, accept_sparse, accept_large_sparse, dtype, order, copy, force_all_finite, ensure_2d, allow_nd, ensure_min_samples, ensure_min_features, estimator)\u001b[0m\n\u001b[1;32m    744\u001b[0m                     \u001b[0marray\u001b[0m \u001b[0;34m=\u001b[0m \u001b[0marray\u001b[0m\u001b[0;34m.\u001b[0m\u001b[0mastype\u001b[0m\u001b[0;34m(\u001b[0m\u001b[0mdtype\u001b[0m\u001b[0;34m,\u001b[0m \u001b[0mcasting\u001b[0m\u001b[0;34m=\u001b[0m\u001b[0;34m\"unsafe\"\u001b[0m\u001b[0;34m,\u001b[0m \u001b[0mcopy\u001b[0m\u001b[0;34m=\u001b[0m\u001b[0;32mFalse\u001b[0m\u001b[0;34m)\u001b[0m\u001b[0;34m\u001b[0m\u001b[0;34m\u001b[0m\u001b[0m\n\u001b[1;32m    745\u001b[0m                 \u001b[0;32melse\u001b[0m\u001b[0;34m:\u001b[0m\u001b[0;34m\u001b[0m\u001b[0;34m\u001b[0m\u001b[0m\n\u001b[0;32m--> 746\u001b[0;31m                     \u001b[0marray\u001b[0m \u001b[0;34m=\u001b[0m \u001b[0mnp\u001b[0m\u001b[0;34m.\u001b[0m\u001b[0masarray\u001b[0m\u001b[0;34m(\u001b[0m\u001b[0marray\u001b[0m\u001b[0;34m,\u001b[0m \u001b[0morder\u001b[0m\u001b[0;34m=\u001b[0m\u001b[0morder\u001b[0m\u001b[0;34m,\u001b[0m \u001b[0mdtype\u001b[0m\u001b[0;34m=\u001b[0m\u001b[0mdtype\u001b[0m\u001b[0;34m)\u001b[0m\u001b[0;34m\u001b[0m\u001b[0;34m\u001b[0m\u001b[0m\n\u001b[0m\u001b[1;32m    747\u001b[0m             \u001b[0;32mexcept\u001b[0m \u001b[0mComplexWarning\u001b[0m \u001b[0;32mas\u001b[0m \u001b[0mcomplex_warning\u001b[0m\u001b[0;34m:\u001b[0m\u001b[0;34m\u001b[0m\u001b[0;34m\u001b[0m\u001b[0m\n\u001b[1;32m    748\u001b[0m                 raise ValueError(\n",
      "\u001b[0;32m~/opt/anaconda3/envs/py39/lib/python3.9/site-packages/pandas/core/generic.py\u001b[0m in \u001b[0;36m__array__\u001b[0;34m(self, dtype)\u001b[0m\n\u001b[1;32m   2070\u001b[0m \u001b[0;34m\u001b[0m\u001b[0m\n\u001b[1;32m   2071\u001b[0m     \u001b[0;32mdef\u001b[0m \u001b[0m__array__\u001b[0m\u001b[0;34m(\u001b[0m\u001b[0mself\u001b[0m\u001b[0;34m,\u001b[0m \u001b[0mdtype\u001b[0m\u001b[0;34m:\u001b[0m \u001b[0mnpt\u001b[0m\u001b[0;34m.\u001b[0m\u001b[0mDTypeLike\u001b[0m \u001b[0;34m|\u001b[0m \u001b[0;32mNone\u001b[0m \u001b[0;34m=\u001b[0m \u001b[0;32mNone\u001b[0m\u001b[0;34m)\u001b[0m \u001b[0;34m->\u001b[0m \u001b[0mnp\u001b[0m\u001b[0;34m.\u001b[0m\u001b[0mndarray\u001b[0m\u001b[0;34m:\u001b[0m\u001b[0;34m\u001b[0m\u001b[0;34m\u001b[0m\u001b[0m\n\u001b[0;32m-> 2072\u001b[0;31m         \u001b[0;32mreturn\u001b[0m \u001b[0mnp\u001b[0m\u001b[0;34m.\u001b[0m\u001b[0masarray\u001b[0m\u001b[0;34m(\u001b[0m\u001b[0mself\u001b[0m\u001b[0;34m.\u001b[0m\u001b[0m_values\u001b[0m\u001b[0;34m,\u001b[0m \u001b[0mdtype\u001b[0m\u001b[0;34m=\u001b[0m\u001b[0mdtype\u001b[0m\u001b[0;34m)\u001b[0m\u001b[0;34m\u001b[0m\u001b[0;34m\u001b[0m\u001b[0m\n\u001b[0m\u001b[1;32m   2073\u001b[0m \u001b[0;34m\u001b[0m\u001b[0m\n\u001b[1;32m   2074\u001b[0m     def __array_wrap__(\n",
      "\u001b[0;31mValueError\u001b[0m: could not convert string to float: '特殊'"
     ]
    }
   ],
   "source": [
    "scaler = MinMaxScaler()\n",
    "scaler.fit(X_train)\n",
    "X_scaled = scaler.fit_transform(X)\n",
    "X_scaled\n",
    "# imputer = KNNImputer(n_neighbors=5)"
   ]
  },
  {
   "cell_type": "code",
   "execution_count": 11,
   "id": "f9a0fc06",
   "metadata": {},
   "outputs": [],
   "source": [
    "imputer = KNNImputer(n_neighbors=5)\n",
    "X_imputed = imputer.fit_transform(X_scaled)\n",
    "X_imputed = pd.DataFrame(X_imputed, columns=X.columns)"
   ]
  },
  {
   "cell_type": "code",
   "execution_count": 12,
   "id": "f934ca40",
   "metadata": {},
   "outputs": [
    {
     "name": "stdout",
     "output_type": "stream",
     "text": [
      "0.8440756464685449\n",
      "0.8467773060594365\n",
      "0.8527595522964107\n"
     ]
    }
   ],
   "source": [
    "'''\n",
    "挑選跑10次模型後，最適合data的rf model\n",
    "'''\n",
    "\n",
    "rf = RandomForestClassifier(n_estimators=500)  # 指定隨機森林模型內要有500棵樹\n",
    "score = 0  \n",
    "for i in range(10):  # 跑100次這個模型fitting\n",
    "    X_train,X_test,y_train,y_test = train_test_split(X_imputed, y, test_size=0.2)  # 每次隨機取出20%資料拿來當作model得分測試\n",
    "    model = rf.fit(X_train, y_train)\n",
    "    model_score = model.score(X_test, y_test)\n",
    "    if model_score > score:  # 取model fitting得分最高的\n",
    "        score = model_score\n",
    "        model_best = model\n",
    "        print(model_score)"
   ]
  },
  {
   "cell_type": "code",
   "execution_count": 95,
   "id": "4f458516",
   "metadata": {},
   "outputs": [
    {
     "name": "stderr",
     "output_type": "stream",
     "text": [
      "/var/folders/zm/2qh6kqr91716mvmmp8z213w40000gn/T/ipykernel_13095/1243123859.py:10: UserWarning: Glyph 29305 (\\N{CJK UNIFIED IDEOGRAPH-7279}) missing from current font.\n",
      "  plt.savefig(path)\n",
      "/var/folders/zm/2qh6kqr91716mvmmp8z213w40000gn/T/ipykernel_13095/1243123859.py:10: UserWarning: Glyph 27530 (\\N{CJK UNIFIED IDEOGRAPH-6B8A}) missing from current font.\n",
      "  plt.savefig(path)\n",
      "/Users/shyanechang/opt/anaconda3/envs/py39/lib/python3.9/site-packages/IPython/core/pylabtools.py:151: UserWarning: Glyph 29305 (\\N{CJK UNIFIED IDEOGRAPH-7279}) missing from current font.\n",
      "  fig.canvas.print_figure(bytes_io, **kw)\n",
      "/Users/shyanechang/opt/anaconda3/envs/py39/lib/python3.9/site-packages/IPython/core/pylabtools.py:151: UserWarning: Glyph 27530 (\\N{CJK UNIFIED IDEOGRAPH-6B8A}) missing from current font.\n",
      "  fig.canvas.print_figure(bytes_io, **kw)\n"
     ]
    },
    {
     "data": {
      "image/png": "[encoded data removed]",
      "text/plain": [
       "<Figure size 720x720 with 1 Axes>"
      ]
     },
     "metadata": {
      "needs_background": "light"
     },
     "output_type": "display_data"
    }
   ],
   "source": [
    "'''\n",
    "視覺化rf變數的重要性\n",
    "'''\n",
    "def showFeatureImportance(model, path):\n",
    "    # model.feature_importances_ & feature_name_in_分別是變數重要性與變數名稱\n",
    "    df = pd.DataFrame({'Importance': model.feature_importances_}, index = model.feature_names_in_)\n",
    "    df.sort_values(by = 'Importance', inplace = True)  # 依照變數重要性排序\n",
    "    plt.figure(figsize = (10,10))\n",
    "    plt.barh(df.index, df.Importance)  # 橫躺的bar plot\n",
    "    plt.savefig(path)\n",
    "    plt.show()\n",
    "\n",
    "showFeatureImportance(model_best, '/Users/shyanechang/Desktop/AI_Class/專題/data/plots/feature_importance_rough.png')"
   ]
  },
  {
   "cell_type": "code",
   "execution_count": 14,
   "id": "cda82a5e",
   "metadata": {
    "scrolled": true
   },
   "outputs": [
    {
     "data": {
      "text/plain": [
       "array([0.02967046, 0.03017779, 0.01848529, 0.02706497, 0.0426212 ,\n",
       "       0.04162058, 0.03365839, 0.01069118, 0.01867447, 0.03219529,\n",
       "       0.02088004, 0.0225235 , 0.0192389 , 0.02148062, 0.02202188,\n",
       "       0.02913792, 0.01564705, 0.01724127, 0.03457984, 0.02578743,\n",
       "       0.02030468, 0.02181976, 0.02060111, 0.0259862 , 0.03155724,\n",
       "       0.02695011, 0.02992124, 0.02575141, 0.03165442, 0.02094754,\n",
       "       0.03579771, 0.02220177, 0.03142273, 0.02442495, 0.0024564 ,\n",
       "       0.02296137, 0.04242405, 0.00670234, 0.0019407 , 0.0054079 ,\n",
       "       0.01187265, 0.00411678, 0.00358189, 0.00420226, 0.00503259,\n",
       "       0.00656211])"
      ]
     },
     "execution_count": 14,
     "metadata": {},
     "output_type": "execute_result"
    }
   ],
   "source": [
    "model_best.feature_importances_"
   ]
  },
  {
   "cell_type": "code",
   "execution_count": null,
   "id": "7a5a028a",
   "metadata": {},
   "outputs": [],
   "source": []
  }
 ],
 "metadata": {
  "kernelspec": {
   "display_name": "Python 3 (ipykernel)",
   "language": "python",
   "name": "python3"
  },
  "language_info": {
   "codemirror_mode": {
    "name": "ipython",
    "version": 3
   },
   "file_extension": ".py",
   "mimetype": "text/x-python",
   "name": "python",
   "nbconvert_exporter": "python",
   "pygments_lexer": "ipython3",
   "version": "3.9.7"
  }
 },
 "nbformat": 4,
 "nbformat_minor": 5
}
