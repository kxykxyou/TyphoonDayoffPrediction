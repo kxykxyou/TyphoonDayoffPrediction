{
 "cells": [
  {
   "cell_type": "code",
   "execution_count": 4,
   "id": "bc0b8bac",
   "metadata": {},
   "outputs": [],
   "source": [
    "#先導入資料處理會用到的模組\n",
    "import numpy as np\n",
    "import scipy as sp\n",
    "import pandas as pd\n",
    "from pandas_profiling import ProfileReport\n",
    "\n",
    "# 可視化模組\n",
    "import matplotlib.pyplot as plt\n",
    "import matplotlib as mpl\n",
    "import seaborn as sns\n",
    "%matplotlib inline\n",
    "\n",
    "# 機器學習模組\n",
    "import sklearn\n",
    "from sklearn.impute import KNNImputer\n",
    "from sklearn.preprocessing import MinMaxScaler\n",
    "from sklearn.ensemble import RandomForestClassifier\n",
    "from sklearn.model_selection import train_test_split\n",
    "import joblib\n",
    "pd.set_option('display.max_columns', None)"
   ]
  },
  {
   "cell_type": "code",
   "execution_count": 42,
   "id": "41160df4",
   "metadata": {},
   "outputs": [
    {
     "data": {
      "text/plain": [
       "(3573, 42)"
      ]
     },
     "execution_count": 42,
     "metadata": {},
     "output_type": "execute_result"
    }
   ],
   "source": [
    "trainset = pd.read_csv('/Users/shyanechang/Desktop/AI_Class/專題/data/station_observation/data_ver_4_DC.csv', index_col = 0)\n",
    "trainset.dropna(subset = ['TmrDayoff'], inplace=True)\n",
    "trainset.shape"
   ]
  },
  {
   "cell_type": "code",
   "execution_count": 53,
   "id": "883cd6f7",
   "metadata": {},
   "outputs": [
    {
     "data": {
      "text/plain": [
       "Index(['ObsDate', 'Region', 'County', 'TyID', 'TyNameCh', 'TyName', 'route',\n",
       "       'intensity', 'hpa', 'TyWS', 'X7_radius', 'X10_radius', 'alert_num',\n",
       "       'born_spotN', 'born_spotE', 'Dayoff', 'StnPres', 'SeaPres',\n",
       "       'StnPresMax', 'StnPresMin', 'Temperature', 'T.Max', 'T.Min',\n",
       "       'Td.dew.point', 'RH', 'RHMin', 'Precp', 'PrecpHour', 'PrecpMax10',\n",
       "       'PrecpMax60', 'SunShine', 'SunShineRate', 'GloblRad', 'VisbMean',\n",
       "       'EvapA', 'UVI.Max', 'Cloud.Amount', 'WD_vector_x', 'WD_vector_y',\n",
       "       'WDGust_vector_x', 'WDGust_vector_y'],\n",
       "      dtype='object')"
      ]
     },
     "execution_count": 53,
     "metadata": {},
     "output_type": "execute_result"
    }
   ],
   "source": [
    "X = trainset.drop('TmrDayoff', axis = 1)  # 訓練的全部變數\n",
    "y = trainset['TmrDayoff']  # 分類\n",
    "X.columns"
   ]
  },
  {
   "cell_type": "code",
   "execution_count": 54,
   "id": "358f8a7f",
   "metadata": {},
   "outputs": [
    {
     "data": {
      "text/plain": [
       "1       0.0\n",
       "2       1.0\n",
       "3       1.0\n",
       "4       0.0\n",
       "5       0.0\n",
       "       ... \n",
       "3544    1.0\n",
       "3545    0.0\n",
       "3546    1.0\n",
       "3547    1.0\n",
       "3548    1.0\n",
       "Name: TmrDayoff, Length: 1827, dtype: float64"
      ]
     },
     "execution_count": 54,
     "metadata": {},
     "output_type": "execute_result"
    }
   ],
   "source": [
    "X = X.drop(X.columns[:6], axis = 1)\n",
    "X.columns"
   ]
  },
  {
   "cell_type": "code",
   "execution_count": 56,
   "id": "cdba8590",
   "metadata": {},
   "outputs": [],
   "source": [
    "X = pd.get_dummies(X)"
   ]
  },
  {
   "cell_type": "code",
   "execution_count": 57,
   "id": "56d4e912",
   "metadata": {},
   "outputs": [
    {
     "data": {
      "text/plain": [
       "Index(['hpa', 'TyWS', 'X7_radius', 'X10_radius', 'alert_num', 'born_spotN',\n",
       "       'born_spotE', 'Dayoff', 'StnPres', 'SeaPres', 'StnPresMax',\n",
       "       'StnPresMin', 'Temperature', 'T.Max', 'T.Min', 'Td.dew.point', 'RH',\n",
       "       'RHMin', 'Precp', 'PrecpHour', 'PrecpMax10', 'PrecpMax60', 'SunShine',\n",
       "       'SunShineRate', 'GloblRad', 'VisbMean', 'EvapA', 'UVI.Max',\n",
       "       'Cloud.Amount', 'WD_vector_x', 'WD_vector_y', 'WDGust_vector_x',\n",
       "       'WDGust_vector_y', 'route_--', 'route_1', 'route_2', 'route_3',\n",
       "       'route_4', 'route_5', 'route_6', 'route_7', 'route_9', 'route_特殊',\n",
       "       'intensity_intense', 'intensity_moderate', 'intensity_tropical'],\n",
       "      dtype='object')"
      ]
     },
     "execution_count": 57,
     "metadata": {},
     "output_type": "execute_result"
    }
   ],
   "source": [
    "X.columns"
   ]
  },
  {
   "cell_type": "code",
   "execution_count": 58,
   "id": "6607f615",
   "metadata": {
    "scrolled": true
   },
   "outputs": [
    {
     "data": {
      "text/plain": [
       "array([[0.69072165, 0.33898305, 0.70833333, ..., 0.        , 1.        ,\n",
       "        0.        ],\n",
       "       [0.69072165, 0.33898305, 0.70833333, ..., 0.        , 1.        ,\n",
       "        0.        ],\n",
       "       [0.69072165, 0.33898305, 0.70833333, ..., 0.        , 1.        ,\n",
       "        0.        ],\n",
       "       ...,\n",
       "       [0.82474227, 0.20338983, 0.70833333, ..., 0.        , 0.        ,\n",
       "        1.        ],\n",
       "       [0.82474227, 0.20338983, 0.70833333, ..., 0.        , 0.        ,\n",
       "        1.        ],\n",
       "       [0.82474227, 0.20338983, 0.70833333, ..., 0.        , 0.        ,\n",
       "        1.        ]])"
      ]
     },
     "execution_count": 58,
     "metadata": {},
     "output_type": "execute_result"
    }
   ],
   "source": [
    "scaler = MinMaxScaler()\n",
    "scaler.fit(X)\n",
    "X_scaled = scaler.fit_transform(X)\n",
    "X_scaled\n",
    "# imputer = KNNImputer(n_neighbors=5)"
   ]
  },
  {
   "cell_type": "code",
   "execution_count": 59,
   "id": "f9a0fc06",
   "metadata": {},
   "outputs": [],
   "source": [
    "imputer = KNNImputer(n_neighbors=5)\n",
    "X_imputed = imputer.fit_transform(X_scaled)\n",
    "X_imputed = pd.DataFrame(X_imputed, columns=X.columns)"
   ]
  },
  {
   "cell_type": "code",
   "execution_count": null,
   "id": "f934ca40",
   "metadata": {},
   "outputs": [
    {
     "name": "stdout",
     "output_type": "stream",
     "text": [
      "0.7622950819672131\n"
     ]
    }
   ],
   "source": [
    "'''\n",
    "挑選跑一百次模型後，最適合data的rf model\n",
    "'''\n",
    "\n",
    "rf = RandomForestClassifier(n_estimators=500)  # 指定隨機森林模型內要有500棵樹\n",
    "score = 0  \n",
    "for i in range(10):  # 跑100次這個模型fitting\n",
    "    X_train,X_test,y_train,y_test = train_test_split(X_imputed, y, test_size=0.2)  # 每次隨機取出20%資料拿來當作model得分測試\n",
    "    model = rf.fit(X_train, y_train)\n",
    "    model_score = model.score(X_test, y_test)\n",
    "    if model_score > score:  # 取model fitting得分最高的\n",
    "        score = model_score\n",
    "        model_best = model\n",
    "        print(model_score)"
   ]
  },
  {
   "cell_type": "code",
   "execution_count": null,
   "id": "4f458516",
   "metadata": {},
   "outputs": [],
   "source": [
    "'''\n",
    "視覺化rf變數的重要性\n",
    "'''\n",
    "def showFeatureImportance(model):\n",
    "    # model.feature_importances_ & feature_name_in_分別是變數重要性與變數名稱\n",
    "    df = pd.DataFrame({'Importance': model.feature_importances_}, index = model.feature_names_in_)\n",
    "    df.sort_values(by = 'Importance', inplace = True)  # 依照變數重要性排序\n",
    "    plt.figure(figsize = (10,10))\n",
    "    plt.barh(df.index, df.Importance)  # 橫躺的bar plot\n",
    "    plt.show()\n",
    "showFeatureImportance(model_best)"
   ]
  },
  {
   "cell_type": "code",
   "execution_count": 45,
   "id": "cda82a5e",
   "metadata": {},
   "outputs": [
    {
     "data": {
      "text/plain": [
       "array([0.0190937 , 0.01689147, 0.01572023, 0.01149008, 0.02084181,\n",
       "       0.02478825, 0.02132785, 0.02307182, 0.03657707, 0.02163568,\n",
       "       0.03142581, 0.02183795, 0.02438617, 0.02116288, 0.02181254,\n",
       "       0.02285761, 0.02244796, 0.09147147, 0.06277055, 0.04273092,\n",
       "       0.05655546, 0.02457634, 0.02371503, 0.05133667, 0.03044431,\n",
       "       0.0212376 , 0.03789928, 0.03047478, 0.02036646, 0.0289264 ,\n",
       "       0.02205666, 0.02686028, 0.00571548, 0.00227798, 0.00827723,\n",
       "       0.00760528, 0.00210637, 0.00095747, 0.00367653, 0.00614368,\n",
       "       0.00028464, 0.00337108, 0.00164328, 0.00388309, 0.00246683,\n",
       "       0.00279998])"
      ]
     },
     "execution_count": 45,
     "metadata": {},
     "output_type": "execute_result"
    }
   ],
   "source": [
    "model_best.feature_importances_"
   ]
  },
  {
   "cell_type": "code",
   "execution_count": null,
   "id": "d16cdbb7",
   "metadata": {},
   "outputs": [],
   "source": [
    "plt.figure()"
   ]
  }
 ],
 "metadata": {
  "kernelspec": {
   "display_name": "Python 3 (ipykernel)",
   "language": "python",
   "name": "python3"
  },
  "language_info": {
   "codemirror_mode": {
    "name": "ipython",
    "version": 3
   },
   "file_extension": ".py",
   "mimetype": "text/x-python",
   "name": "python",
   "nbconvert_exporter": "python",
   "pygments_lexer": "ipython3",
   "version": "3.9.7"
  }
 },
 "nbformat": 4,
 "nbformat_minor": 5
}
